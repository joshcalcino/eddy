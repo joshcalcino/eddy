{
 "cells": [
  {
   "cell_type": "markdown",
   "id": "dca5e2d2-f864-4d2f-8bb7-e55d35a28aae",
   "metadata": {},
   "source": [
    "# Frequently Asked Quetsions\n",
    "\n",
    "This Notebook goes through some frequently asked questions about `eddy`."
   ]
  },
  {
   "cell_type": "markdown",
   "id": "174a37cb-4fe1-4474-a5cb-9344c4e406ed",
   "metadata": {},
   "source": [
    "_How do I change the priors?_\n",
    "\n",
    "You want to use the `set_prior` function. This has three arguements, the name of the prior, the values of the prior and the type of prior. Two types of priors can be used: flat, uniform priors, `'flat'`, or Gaussian priors, `'gaussian'`. For the flat priors the two values define the minimum and maximum value, while for the Gaussian priors the values specify the mean and standard deviation of Gaussian.\n",
    "\n",
    "```python\n",
    "cube.set_prior('vlsr', [-20e3, 20e3], 'flat')  # uniform prior\n",
    "cube.set_prior('x0', [0.0, 0.05], 'gaussian')  # gaussian prior\n",
    "```"
   ]
  }
 ],
 "metadata": {
  "kernelspec": {
   "display_name": "Python 3 (ipykernel)",
   "language": "python",
   "name": "python3"
  },
  "language_info": {
   "codemirror_mode": {
    "name": "ipython",
    "version": 3
   },
   "file_extension": ".py",
   "mimetype": "text/x-python",
   "name": "python",
   "nbconvert_exporter": "python",
   "pygments_lexer": "ipython3",
   "version": "3.10.9"
  }
 },
 "nbformat": 4,
 "nbformat_minor": 5
}
